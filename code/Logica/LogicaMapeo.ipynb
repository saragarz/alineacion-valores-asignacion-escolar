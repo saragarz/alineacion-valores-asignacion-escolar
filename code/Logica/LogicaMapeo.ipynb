{
 "cells": [
  {
   "metadata": {},
   "cell_type": "markdown",
   "source": [
    "\n",
    "## Install necessary packages"
   ],
   "id": "6e713caaecbafdd7"
  },
  {
   "metadata": {},
   "cell_type": "markdown",
   "source": "## Import Required Libraries",
   "id": "e1ccef0cae1015d1"
  },
  {
   "metadata": {
    "ExecuteTime": {
     "end_time": "2025-05-20T22:16:13.833666Z",
     "start_time": "2025-05-20T22:16:10.773845Z"
    }
   },
   "cell_type": "code",
   "source": [
    "import os\n",
    "import pandas"
   ],
   "id": "68f1af4b283118ab",
   "outputs": [],
   "execution_count": 1
  },
  {
   "metadata": {},
   "cell_type": "markdown",
   "source": "## Install and import Logica",
   "id": "2770eb610d89d6d4"
  },
  {
   "cell_type": "code",
   "id": "initial_id",
   "metadata": {
    "collapsed": true,
    "ExecuteTime": {
     "end_time": "2025-05-20T22:17:13.889366Z",
     "start_time": "2025-05-20T22:17:13.742433Z"
    }
   },
   "source": [
    "if not os.path.isdir('logica'):\n",
    "    !git clone https://github.com/evgskv/logica\n",
    "from logica import colab_logica"
   ],
   "outputs": [
    {
     "name": "stdout",
     "output_type": "stream",
     "text": [
      "Could not import google.cloud.bigquery.\n",
      "Could not import google.cloud.auth.\n",
      "Could not import google.colab.widgets.\n"
     ]
    }
   ],
   "execution_count": 2
  },
  {
   "metadata": {},
   "cell_type": "markdown",
   "source": "## Read raw data",
   "id": "a96e6ed8d21a8492"
  },
  {
   "metadata": {
    "ExecuteTime": {
     "end_time": "2025-05-20T23:34:49.270817Z",
     "start_time": "2025-05-20T23:34:48.628069Z"
    }
   },
   "cell_type": "code",
   "source": [
    "%%logica Guardar\n",
    "Guardar() += 1 :- SolicitudPuntuacion();\n",
    "@Ground(SolicitudPuntuacion);\n",
    "\n",
    "SolicitudRaw(..r) :-\n",
    "`('../../data/CSV/SolicitudesMadrid.csv')`(..r);\n",
    "\n",
    "SolicitudPuntuacion(\n",
    "    estudiante:,\n",
    "    curso:,\n",
    "    prioridad:,\n",
    "    codigo_centro:,\n",
    "    nombre_centro:,\n",
    "    provincia_baremo:,\n",
    "    municipio_baremo:,\n",
    "    distrito_baremo:,\n",
    "    codigo_centro_adm:,\n",
    "    nombre_centro_adm:,\n",
    "    admitido:,\n",
    "    renuncia:,\n",
    "    desestimada:,\n",
    "    matriculado:,\n",
    "    puntuacion_renta_minima:,\n",
    "    puntuacion_discapacidad:,\n",
    "    puntuacion_nota_media:,\n",
    "    puntuacion_familia_numerosa:,\n",
    "    puntuacion_domicilio:,\n",
    "    puntuacion_antiguo_alumno:,\n",
    "    puntuacion_criterio_centro:,\n",
    "    puntuacion_hermanos_matriculados:,\n",
    "    puntuacion_tutor_trabajando:,\n",
    "    puntuacion_parto_multiple:,\n",
    "    puntuacion_familia_monoparental:,\n",
    "    puntuacion_acogida:,\n",
    "    puntuacion_violencia_genero:,\n",
    "    puntuacion_total:,\n",
    "    fecha:\n",
    ") :-\n",
    "SolicitudRaw(\n",
    "    estudiante:,\n",
    "    curso:,\n",
    "    prioridad:,\n",
    "    codigo_centro:,\n",
    "    nombre_centro:,\n",
    "    provincia_baremo:,\n",
    "    municipio_baremo:,\n",
    "    distrito_baremo:,\n",
    "    codigo_centro_adm:,\n",
    "    nombre_centro_adm:,\n",
    "    admitido:,\n",
    "    renuncia:,\n",
    "    desestimada:,\n",
    "    matriculado:,\n",
    "    puntuacion_renta_minima:,\n",
    "    puntuacion_discapacidad:,\n",
    "    puntuacion_nota_media:,\n",
    "    puntuacion_familia_numerosa:,\n",
    "    puntuacion_domicilio:,\n",
    "    puntuacion_antiguo_alumno:,\n",
    "    puntuacion_criterio_centro:,\n",
    "    puntuacion_hermanos_matriculados:,\n",
    "    puntuacion_tutor_trabajando:,\n",
    "    puntuacion_parto_multiple:,\n",
    "    puntuacion_familia_monoparental:,\n",
    "    puntuacion_acogida:,\n",
    "    puntuacion_violencia_genero:,\n",
    "    puntuacion_total:,\n",
    "    fecha:\n",
    ");"
   ],
   "id": "ceeb2a5cb480bad8",
   "outputs": [
    {
     "name": "stdout",
     "output_type": "stream",
     "text": [
      "Query is stored at \u001B[1mGuardar_sql\u001B[0m variable.\n",
      "The following table is stored at \u001B[1mGuardar\u001B[0m variable.\n"
     ]
    },
    {
     "data": {
      "text/plain": [
       "<IPython.core.display.HTML object>"
      ],
      "text/html": [
       "<i>table to be rendered</i>"
      ]
     },
     "metadata": {},
     "output_type": "display_data"
    },
    {
     "data": {
      "text/plain": [
       "<IPython.core.display.HTML object>"
      ],
      "text/html": [
       "<table border=\"1\" class=\"dataframe\">\n",
       "  <thead>\n",
       "    <tr style=\"text-align: right;\">\n",
       "      <th></th>\n",
       "      <th>logica_value</th>\n",
       "    </tr>\n",
       "  </thead>\n",
       "  <tbody>\n",
       "    <tr>\n",
       "      <th>0</th>\n",
       "      <td>368718</td>\n",
       "    </tr>\n",
       "  </tbody>\n",
       "</table>"
      ]
     },
     "metadata": {},
     "output_type": "display_data"
    },
    {
     "name": "stdout",
     "output_type": "stream",
     "text": [
      " \n"
     ]
    }
   ],
   "execution_count": 27
  },
  {
   "metadata": {},
   "cell_type": "markdown",
   "source": "## Score Interpretation",
   "id": "3f65ea71a4e71ced"
  },
  {
   "metadata": {
    "ExecuteTime": {
     "end_time": "2025-05-05T20:51:46.968547Z",
     "start_time": "2025-05-05T20:51:45.445027Z"
    }
   },
   "cell_type": "code",
   "source": [
    "%%logica Save\n",
    "Save() += 1 :- Application();\n",
    "\n",
    "MinimumIncome(minimum_income: \"Si\", score_minimum_income: 2);\n",
    "MinimumIncome(minimum_income: \"No\", score_minimum_income: 0);\n",
    "\n",
    "Disability(disability: \"Si\", score_disability: 7);\n",
    "Disability(disability: \"No\", score_disability: 0);\n",
    "\n",
    "Course(course:) distinct:-\n",
    "    ApplicationScore(course:);\n",
    "\n",
    "CourseModality(modality: \"Bachillerato de Artes\", course:) :-\n",
    "    Like(course, \"%Artes%\");\n",
    "\n",
    "AverageGrade2(average_grade: \"<6\", score_average_grade: 0.0);\n",
    "AverageGrade2(average_grade: \"<6 + artes 0.5\", score_average_grade: 0.5);\n",
    "AverageGrade2(average_grade: \"<6 + artes 1\", score_average_grade: 1);\n",
    "AverageGrade2(average_grade: \"<6 + artes 1.5\", score_average_grade: 1.5);\n",
    "AverageGrade2(average_grade: \"6-7\", score_average_grade: 6.0);\n",
    "AverageGrade2(average_grade: \"6-7 + artes 0.5\", score_average_grade: 6.5);\n",
    "AverageGrade2(average_grade: \"6-7 + artes 1.5  o 7-8 + artes 0.5\", score_average_grade: 7.5);\n",
    "AverageGrade2(average_grade: \"7-8 + artes 1\", score_average_grade: 8.0);\n",
    "AverageGrade2(average_grade: \"7-8 + artes 1.5\", score_average_grade: 8.5);\n",
    "AverageGrade2(average_grade: \"8-9\", score_average_grade: 9.0);\n",
    "AverageGrade2(average_grade: \"8-9 + artes 0.5\", score_average_grade: 9.5);\n",
    "AverageGrade2(average_grade: \"8-9 + artes 1\", score_average_grade: 10.0);\n",
    "AverageGrade2(average_grade: \"8-9 + artes 1.5\", score_average_grade: 10.5);\n",
    "AverageGrade2(average_grade: \">=9\", score_average_grade: 11.0);\n",
    "AverageGrade2(average_grade: \">=9 + artes 0.5\", score_average_grade: 11.5);\n",
    "AverageGrade2(average_grade: \">=9 + artes 0.5\", score_average_grade: 12.0);\n",
    "AverageGrade2(average_grade: \">=9 + artes 0.5\", score_average_grade: 12.5);\n",
    "\n",
    "AverageGrade3(average_grade: \"6-7 + artes 1 o 7-8\", score_average_grade: 7.0, course:) :-\n",
    "    Course(course:),\n",
    "    CourseModality(modality: \"Bachillerato de Artes\", course:);\n",
    "AverageGrade3(average_grade: \"7-8\", score_average_grade: 7.0, course:) :-\n",
    "    Course(course:),\n",
    "    ~CourseModality(modality: \"Bachillerato de Artes\", course:);\n",
    "\n",
    "AverageGrade(average_grade:, score_average_grade:, course:) :-\n",
    "    Course(course:),\n",
    "    AverageGrade2(average_grade:, score_average_grade:);\n",
    "AverageGrade(average_grade:, score_average_grade:, course:) :-\n",
    "    AverageGrade3(average_grade:, score_average_grade:, course:);\n",
    "\n",
    "LargeFamily(large_family: \"Especial\", score_large_family: 11);\n",
    "LargeFamily(large_family: \"General\", score_large_family: 10);\n",
    "LargeFamily(large_family: \"No\", score_large_family: 0);\n",
    "\n",
    "Residence(residence: \"Mismo distrito\", score_residence: 13);\n",
    "Residence(residence: \"Mismo municipio\", score_residence: 12);\n",
    "Residence(residence: \"Comunidad de Madrid\", score_residence: 8);\n",
    "Residence(residence: \"Extracomunitario\", score_residence: 0);\n",
    "\n",
    "FormerStudent(former_student: \"Si\", score_former_student: 4);\n",
    "FormerStudent(former_student: \"No\", score_former_student: 0);\n",
    "\n",
    "CenterScore(center_score: \"Si\", score_center_score: 3);\n",
    "CenterScore(center_score: \"No\", score_center_score: 0);\n",
    "\n",
    "EnrolledSibling(enrolled_sibling: \"Dos o mas\", score_enrolled_sibling: 30);\n",
    "EnrolledSibling(enrolled_sibling: \"Uno\", score_enrolled_sibling: 15);\n",
    "EnrolledSibling(enrolled_sibling: \"No\", score_enrolled_sibling: 0);\n",
    "\n",
    "TutorWorking(tutor_working: \"Si\", score_tutor_working: 10);\n",
    "TutorWorking(tutor_working: \"No\", score_tutor_working: 0);\n",
    "\n",
    "MultipleBirth(multiple_birth: \"Si\", score_multiple_birth: 3);\n",
    "MultipleBirth(multiple_birth: \"No\", score_multiple_birth: 0);\n",
    "\n",
    "SingleParent(single_parent: \"Si\", score_single_parent: 3);\n",
    "SingleParent(single_parent: \"No\", score_single_parent: 0);\n",
    "\n",
    "FosterCare(foster_care: \"Si\", score_foster_care: 3);\n",
    "FosterCare(foster_care: \"No\", score_foster_care: 0);\n",
    "\n",
    "GenderViolence(gender_violence: \"Si\", score_gender_violence: 2);\n",
    "GenderViolence(gender_violence: \"No\", score_gender_violence: 0);\n",
    "\n",
    "\n",
    "@Ground(Application, \"madrid.Application\");\n",
    "Application(student:, course:, priority:, center_code:, center_name:, barem_province:, barem_municipality:, barem_district:, admission_center_code:, admission_center_name:, admitted:, renounced:, discarded:, enrolled:, minimum_income:, disability:, average_grade:, large_family:, residence:, former_student:, center_score:, enrolled_sibling:, tutor_working:, multiple_birth:, single_parent:, foster_care:, gender_violence:, total_score:, date:) :-\n",
    "    ApplicationScore(student:, course:, priority:, center_code:, center_name:, barem_province:, barem_municipality:, barem_district:, admission_center_code:, admission_center_name:, admitted:, renounced:, discarded:, enrolled:, score_minimum_income:, score_disability:, score_average_grade:, score_large_family:, score_residence:, score_former_student:, score_center_score:, score_enrolled_sibling:, score_tutor_working:, score_multiple_birth:, score_single_parent:, score_foster_care:, score_gender_violence:, total_score:, date:),\n",
    "    MinimumIncome(minimum_income:, score_minimum_income:),\n",
    "    Disability(disability:, score_disability:),\n",
    "    AverageGrade(average_grade:, score_average_grade:, course:),\n",
    "    LargeFamily(large_family:, score_large_family:),\n",
    "    Residence(residence:, score_residence:),\n",
    "    FormerStudent(former_student:, score_former_student:),\n",
    "    CenterScore(center_score:, score_center_score:),\n",
    "    EnrolledSibling(enrolled_sibling:, score_enrolled_sibling:),\n",
    "    TutorWorking(tutor_working:, score_tutor_working:),\n",
    "    MultipleBirth(multiple_birth:, score_multiple_birth:),\n",
    "    SingleParent(single_parent:, score_single_parent:),\n",
    "    FosterCare(foster_care:, score_foster_care:),\n",
    "    GenderViolence(gender_violence:, score_gender_violence:);    "
   ],
   "id": "29aa89754bbff0ea",
   "outputs": [
    {
     "name": "stdout",
     "output_type": "stream",
     "text": [
      "Query is stored at \u001B[1mSave_sql\u001B[0m variable.\n",
      "The following table is stored at \u001B[1mSave\u001B[0m variable.\n"
     ]
    },
    {
     "data": {
      "text/plain": [
       "<IPython.core.display.HTML object>"
      ],
      "text/html": [
       "<i>table to be rendered</i>"
      ]
     },
     "metadata": {},
     "output_type": "display_data"
    },
    {
     "data": {
      "text/plain": [
       "<IPython.core.display.HTML object>"
      ],
      "text/html": [
       "<table border=\"1\" class=\"dataframe\">\n",
       "  <thead>\n",
       "    <tr style=\"text-align: right;\">\n",
       "      <th></th>\n",
       "      <th>logica_value</th>\n",
       "    </tr>\n",
       "  </thead>\n",
       "  <tbody>\n",
       "    <tr>\n",
       "      <th>0</th>\n",
       "      <td>368721</td>\n",
       "    </tr>\n",
       "  </tbody>\n",
       "</table>"
      ]
     },
     "metadata": {},
     "output_type": "display_data"
    },
    {
     "name": "stdout",
     "output_type": "stream",
     "text": [
      " \n"
     ]
    }
   ],
   "execution_count": 9
  }
 ],
 "metadata": {
  "kernelspec": {
   "display_name": "Python 3",
   "language": "python",
   "name": "python3"
  },
  "language_info": {
   "codemirror_mode": {
    "name": "ipython",
    "version": 2
   },
   "file_extension": ".py",
   "mimetype": "text/x-python",
   "name": "python",
   "nbconvert_exporter": "python",
   "pygments_lexer": "ipython2",
   "version": "2.7.6"
  }
 },
 "nbformat": 4,
 "nbformat_minor": 5
}
