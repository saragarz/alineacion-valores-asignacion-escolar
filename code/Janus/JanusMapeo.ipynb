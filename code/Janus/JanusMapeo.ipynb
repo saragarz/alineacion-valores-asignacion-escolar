{
 "cells": [
  {
   "cell_type": "markdown",
   "id": "3ca27bd121200218",
   "metadata": {},
   "source": "## Instalar Janus (si no lo está ya)"
  },
  {
   "cell_type": "code",
   "id": "initial_id",
   "metadata": {
    "collapsed": true,
    "jupyter": {
     "outputs_hidden": true
    },
    "ExecuteTime": {
     "end_time": "2025-06-08T12:00:57.375522Z",
     "start_time": "2025-06-08T12:00:49.862198Z"
    }
   },
   "source": [
    "!pip install janus_swi"
   ],
   "outputs": [
    {
     "name": "stdout",
     "output_type": "stream",
     "text": [
      "Requirement already satisfied: janus_swi in c:\\users\\sara\\appdata\\local\\programs\\python\\python312\\lib\\site-packages (1.5.2)\n"
     ]
    }
   ],
   "execution_count": 18
  },
  {
   "cell_type": "markdown",
   "id": "a941b57ad33d60b7",
   "metadata": {},
   "source": "## Importar Janus con SWI-Prolog"
  },
  {
   "cell_type": "code",
   "id": "dd8e75bbe68e66d8",
   "metadata": {
    "ExecuteTime": {
     "end_time": "2025-06-08T12:00:57.380845Z",
     "start_time": "2025-06-08T12:00:57.377269Z"
    }
   },
   "source": [
    "import janus_swi as janus"
   ],
   "outputs": [],
   "execution_count": 19
  },
  {
   "metadata": {},
   "cell_type": "markdown",
   "source": "## Es necesario aumentar el tamaño del Stack",
   "id": "8e71587f28d11f80"
  },
  {
   "metadata": {
    "ExecuteTime": {
     "end_time": "2025-06-08T12:00:57.387886Z",
     "start_time": "2025-06-08T12:00:57.381210Z"
    }
   },
   "cell_type": "code",
   "source": "janus.query_once(\"set_prolog_flag(stack_limit, 3_000_000_000)\")",
   "id": "cb22f174ec273b53",
   "outputs": [
    {
     "data": {
      "text/plain": [
       "{'truth': True}"
      ]
     },
     "execution_count": 20,
     "metadata": {},
     "output_type": "execute_result"
    }
   ],
   "execution_count": 20
  },
  {
   "metadata": {},
   "cell_type": "markdown",
   "source": "## Consultar el archivo mapeo.pl",
   "id": "c50a99eac9713ba0"
  },
  {
   "metadata": {
    "ExecuteTime": {
     "end_time": "2025-06-08T12:00:57.398643Z",
     "start_time": "2025-06-08T12:00:57.387886Z"
    }
   },
   "cell_type": "code",
   "source": "janus.consult('mapeo')",
   "id": "646915632e2e9c98",
   "outputs": [],
   "execution_count": 21
  },
  {
   "cell_type": "markdown",
   "id": "393b2a7a7de8668f",
   "metadata": {},
   "source": "## Mapear la puntuación a las circunstancias del alumno"
  },
  {
   "cell_type": "code",
   "id": "5e4728573087fb1f",
   "metadata": {
    "ExecuteTime": {
     "end_time": "2025-06-08T12:00:57.402494Z",
     "start_time": "2025-06-08T12:00:57.398643Z"
    }
   },
   "source": [
    "raw_path = '../../data/CSV/SolicitudesMadrid.csv'\n",
    "interpreted_path = '../../data/Janus/SolicitudesMadridInterpretadas.csv'"
   ],
   "outputs": [],
   "execution_count": 22
  },
  {
   "cell_type": "code",
   "id": "734b26bf06d5ca1",
   "metadata": {
    "ExecuteTime": {
     "end_time": "2025-06-08T12:56:13.856219Z",
     "start_time": "2025-06-08T12:00:57.402494Z"
    }
   },
   "source": "janus.query_once(f\"main('{raw_path}','{interpreted_path}')\")",
   "outputs": [
    {
     "data": {
      "text/plain": [
       "{'truth': True}"
      ]
     },
     "execution_count": 23,
     "metadata": {},
     "output_type": "execute_result"
    }
   ],
   "execution_count": 23
  }
 ],
 "metadata": {
  "kernelspec": {
   "display_name": "Python 3 (ipykernel)",
   "language": "python",
   "name": "python3"
  },
  "language_info": {
   "codemirror_mode": {
    "name": "ipython",
    "version": 3
   },
   "file_extension": ".py",
   "mimetype": "text/x-python",
   "name": "python",
   "nbconvert_exporter": "python",
   "pygments_lexer": "ipython3",
   "version": "3.12.3"
  }
 },
 "nbformat": 4,
 "nbformat_minor": 5
}
