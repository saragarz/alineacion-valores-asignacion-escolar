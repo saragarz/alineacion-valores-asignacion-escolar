{
 "cells": [
  {
   "cell_type": "code",
   "id": "initial_id",
   "metadata": {
    "collapsed": true,
    "ExecuteTime": {
     "end_time": "2025-06-07T12:32:20.895843Z",
     "start_time": "2025-06-07T12:32:20.543455Z"
    }
   },
   "source": "import pandas",
   "outputs": [],
   "execution_count": 1
  },
  {
   "metadata": {},
   "cell_type": "markdown",
   "source": "## Load data",
   "id": "731db50ba1baacd5"
  },
  {
   "metadata": {
    "ExecuteTime": {
     "end_time": "2025-06-07T12:32:21.757485Z",
     "start_time": "2025-06-07T12:32:20.895843Z"
    }
   },
   "cell_type": "code",
   "source": [
    "raw_path = '../../data/CSV/SolicitudesMadrid.csv'\n",
    "solicitudes = pandas.read_csv(raw_path, sep=';')"
   ],
   "id": "4e7259cadc1add4c",
   "outputs": [],
   "execution_count": 2
  },
  {
   "metadata": {},
   "cell_type": "markdown",
   "source": "## Score Interpretation",
   "id": "fe07bce5ab36978d"
  },
  {
   "metadata": {
    "ExecuteTime": {
     "end_time": "2025-06-07T12:32:24.558188Z",
     "start_time": "2025-06-07T12:32:21.757485Z"
    }
   },
   "cell_type": "code",
   "source": [
    "solicitudes['HerMat'] = (solicitudes['puntuacion_hermanos_matriculados'].map\n",
    "                         ({0: 'Cero', 15: 'Uno', 30: 'Dos o más'}))\n",
    "solicitudes['Dom'] = solicitudes['puntuacion_domicilio'].map({0: 'Extracomunitario', 8: 'Comunidad de Madrid', 12: 'Mismo municipio', 13: 'Mismo distrito'})\n",
    "solicitudes['RenMin'] = solicitudes['puntuacion_renta_minima'].map({2: 'Sí', 0: 'No'})\n",
    "solicitudes['TutTra'] = solicitudes['puntuacion_tutor_trabajando'].map({10: 'Sí', 0: 'No'})\n",
    "solicitudes['FamNum'] = solicitudes['puntuacion_familia_numerosa'].map({11: 'Especial', 10: 'General', 0: 'No'})\n",
    "solicitudes['ParMul'] = solicitudes['puntuacion_parto_multiple'].map({3: 'Sí', 0: 'No'})\n",
    "solicitudes['FamMon'] = solicitudes['puntuacion_familia_monoparental'].map({3: 'Sí', 0: 'No'})\n",
    "solicitudes['Acog'] = solicitudes['puntuacion_acogida'].map({3: 'Sí', 0: 'No'})\n",
    "solicitudes['Dis'] = solicitudes['puntuacion_discapacidad'].map({7: 'Sí', 0: 'No'})\n",
    "solicitudes['VioGen'] = solicitudes['puntuacion_violencia_genero'].map({2: 'Sí', 0: 'No'})\n",
    "solicitudes['AntAlu'] = solicitudes['puntuacion_antiguo_alumno'].map({4: 'Sí', 0: 'No'})\n",
    "solicitudes['Cen'] = solicitudes['puntuacion_criterio_centro'].map({3: 'Se cumple', 0: 'No se cumple'})\n",
    "\n",
    "solicitudes_bachillerato = solicitudes[solicitudes['curso'].str.contains('Bachillerato')].copy()\n",
    "solicitudes_no_artes = solicitudes_bachillerato[~solicitudes_bachillerato['curso'].str.contains('Artes', case=False, na=False)]\n",
    "puntuacion_no_artes = solicitudes_no_artes.groupby('estudiante')['puntuacion_nota_media'].first()\n",
    "solicitudes_bachillerato['puntuacion_nota_media_no_artes'] = solicitudes_bachillerato['estudiante'].map(puntuacion_no_artes)\n",
    "\n",
    "def expediente_map(solicitud):\n",
    " curso = solicitud['curso']\n",
    " no_artes_map = {\n",
    "  11: '>=9',\n",
    "  9: '[8,9)',\n",
    "  7: '[7,8)',\n",
    "  6: '[6,7)',\n",
    "  0: '<6',\n",
    " }\n",
    " if pandas.notna(solicitud['puntuacion_nota_media_no_artes']):\n",
    "  nota = no_artes_map.get(solicitud['puntuacion_nota_media_no_artes'])\n",
    "  if 'Artes' in curso and solicitud['puntuacion_nota_media'] > solicitud['puntuacion_nota_media_no_artes']:\n",
    "   return f\"{nota} + artes {solicitud['puntuacion_nota_media'] - solicitud['puntuacion_nota_media_no_artes']}\"\n",
    "  else:\n",
    "   return nota\n",
    " else:\n",
    "  artes_map = {\n",
    "   0: '<6',\n",
    "   0.5: '<6 + artes 0.5',\n",
    "   1: '<6 + artes 1',\n",
    "   1.5: '<6 + artes 1.5',\n",
    "   6: '[6,7)',\n",
    "   6.5: '[6,7) + artes 0.5',\n",
    "   7: '[6,7) + artes 1 o [7,8)',\n",
    "   7.5: '[6,7) + artes 1.5 o [7,8) + artes 0.5',\n",
    "   8: '[7,8) + artes 1',\n",
    "   8.5: '[7,8) + artes 1.5',\n",
    "   9: '[8,9)',\n",
    "   9.5: '[8,9) + artes 0.5',\n",
    "   10: '[8,9) + artes 1',\n",
    "   10.5: '[8,9) + artes 1.5',\n",
    "   11: '>=9',\n",
    "   11.5: '>=9 + artes 0.5',\n",
    "   12: '>=9 + artes 1',\n",
    "   12.5: '>=9 + artes 1.5'\n",
    "  }\n",
    "  return artes_map.get(solicitud['puntuacion_nota_media'])\n",
    "\n",
    "solicitudes_bachillerato['NotMed'] = solicitudes_bachillerato.apply(expediente_map, axis=1)\n",
    "solicitudes_bachillerato.drop(columns=['puntuacion_nota_media_no_artes'], inplace=True)\n",
    "\n",
    "solicitudes_no_bachillerato = solicitudes[~solicitudes['curso'].str.contains('Bachillerato')].copy()\n",
    "solicitudes_no_bachillerato['NotMed'] = 'Sin información'\n",
    "\n",
    "solicitudes = pandas.concat([solicitudes_bachillerato, solicitudes_no_bachillerato], ignore_index=True)\n",
    "\n",
    "interpreted_path = '../../data/Pandas/SolicitudesMadridInterpretadas.csv'\n",
    "criterios = {\n",
    " 'puntuacion_hermanos_matriculados': 'HerMat',\n",
    " 'puntuacion_domicilio': 'Dom',\n",
    " 'puntuacion_renta_minima': 'RenMin',\n",
    " 'puntuacion_tutor_trabajando': 'TutTra',\n",
    " 'puntuacion_familia_numerosa': 'FamNum',\n",
    " 'puntuacion_parto_multiple': 'ParMul',\n",
    " 'puntuacion_familia_monoparental': 'FamMon',\n",
    " 'puntuacion_acogida': 'Acog',\n",
    " 'puntuacion_discapacidad': 'Dis',\n",
    " 'puntuacion_violencia_genero': 'VioGen',\n",
    " 'puntuacion_antiguo_alumno': 'AntAlu',\n",
    " 'puntuacion_criterio_centro': 'Cen',\n",
    " 'puntuacion_nota_media': 'NotMed'\n",
    "}\n",
    "\n",
    "for puntuacion, circunstancia in criterios.items():\n",
    " idx = solicitudes.columns.get_loc(puntuacion)\n",
    " nueva = solicitudes.pop(circunstancia)\n",
    " solicitudes.insert(idx, circunstancia, nueva)\n",
    "\n",
    "solicitudes.drop(columns=criterios.keys(), inplace=True)\n",
    "solicitudes.drop(columns=['provincia_centro', 'municipio_centro', 'distrito_centro', 'nombre_distrito_centro', 'nombre_distrito_baremo', 'provincia_centro_adm', 'municipio_centro_adm', 'distrito_centro_adm', 'nombre_distrito_centro_adm'], inplace=True)\n",
    "solicitudes.fillna(\" \", inplace=True)\n",
    "solicitudes.to_csv(interpreted_path, sep=';', index=False)"
   ],
   "id": "40457070e59cb4c0",
   "outputs": [],
   "execution_count": 3
  }
 ],
 "metadata": {
  "kernelspec": {
   "display_name": "Python 3",
   "language": "python",
   "name": "python3"
  },
  "language_info": {
   "codemirror_mode": {
    "name": "ipython",
    "version": 2
   },
   "file_extension": ".py",
   "mimetype": "text/x-python",
   "name": "python",
   "nbconvert_exporter": "python",
   "pygments_lexer": "ipython2",
   "version": "2.7.6"
  }
 },
 "nbformat": 4,
 "nbformat_minor": 5
}
